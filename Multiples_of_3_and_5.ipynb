{
 "cells": [
  {
   "cell_type": "markdown",
   "metadata": {},
   "source": [
    "### Challenge: Multiples of 3 and 5\n",
    "If we list all of the natural numbers below 10 that are multiples of 3 or 5, we get 3, 5, 6, and 9. The sum of these multiples is 23. Find the sum of all the multiples of 3 and 5 below 1,000. Afterward, write a brief explanation walking through your code's logic in markdown."
   ]
  },
  {
   "cell_type": "code",
   "execution_count": 1,
   "metadata": {},
   "outputs": [
    {
     "name": "stdout",
     "output_type": "stream",
     "text": [
      "233168\n"
     ]
    }
   ],
   "source": [
    "sum_nums = 0\n",
    "\n",
    "for num in range(1,1000):\n",
    "    if (num % 3 == 0) or (num % 5 == 0):\n",
    "        sum_nums += num\n",
    "    else:\n",
    "        continue\n",
    "print(sum_nums)"
   ]
  },
  {
   "cell_type": "markdown",
   "metadata": {},
   "source": [
    "### Challenge Explanation\n",
    "\n",
    "First, I want to create a variable to keep track of the sum of the numbers that are divisible by 3 or 5 (meaning they are a multiple of 3 or 5).  I called this sum_nums and set it = 0.\n",
    "\n",
    "Then we want to iterate through the range of numbers between 1 and up to, but not including, 1000, since the problem asks for \"below 1,000.\"\n",
    "\n",
    "We can check both divisible by 3 and 5 in the same if statement by using an OR command.  In either case, we want to add that number to the sum_nums variable and continue through the range until we get to 1,000.\n",
    "\n",
    "Once we have iterated through all of the numbers, we want to print the value of the sum of all numbers that are a multiple of 3 or 5."
   ]
  }
 ],
 "metadata": {
  "kernelspec": {
   "display_name": "Python 3",
   "language": "python",
   "name": "python3"
  },
  "language_info": {
   "codemirror_mode": {
    "name": "ipython",
    "version": 3
   },
   "file_extension": ".py",
   "mimetype": "text/x-python",
   "name": "python",
   "nbconvert_exporter": "python",
   "pygments_lexer": "ipython3",
   "version": "3.7.0"
  }
 },
 "nbformat": 4,
 "nbformat_minor": 2
}
