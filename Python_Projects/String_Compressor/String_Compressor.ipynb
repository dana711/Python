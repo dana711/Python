{
 "cells": [
  {
   "cell_type": "markdown",
   "metadata": {},
   "source": [
    "### Challenge: String Compressor\n",
    "Implement a method to perform basic string compression using the counts of repeated characters. (This is called run-length encoding.) For example, the string \"aabcccccaaa\" would become a2b1c5a3. If the “compressed” string would not become smaller than the original string, your method should return the original string. You can assume the string has only uppercase and lowercase letters (a–z). Specify whether your solution is case sensitive or case insensitive and what you would need to change to make it the other. Afterward, write a brief explanation walking through your code's logic in markdown."
   ]
  },
  {
   "cell_type": "code",
   "execution_count": 1,
   "metadata": {},
   "outputs": [
    {
     "name": "stdout",
     "output_type": "stream",
     "text": [
      "Enter a string (can be uppercase or lowercase letters): aabbcddeefffffgHijkLMNOOOOPp\n"
     ]
    }
   ],
   "source": [
    "string_input = input('Enter a string (can be uppercase or lowercase letters): ')"
   ]
  },
  {
   "cell_type": "code",
   "execution_count": 2,
   "metadata": {},
   "outputs": [
    {
     "name": "stdout",
     "output_type": "stream",
     "text": [
      "a2b2c1d2e2f5g1H1i1j1k1L1M1N1O4P1p1\n"
     ]
    }
   ],
   "source": [
    "comp_str = ''\n",
    "\n",
    "count = 1\n",
    "for x in range(len(string_input) - 1):\n",
    "    if string_input[x] == string_input[x + 1]:\n",
    "        count += 1\n",
    "    else:\n",
    "        comp_str += string_input[x] + str(count)\n",
    "        count = 1\n",
    "comp_str += string_input[x + 1] + str(count)\n",
    "\n",
    "if len(string_input) >= len(comp_str):\n",
    "    print(string_input)\n",
    "else:\n",
    "    print(comp_str)"
   ]
  },
  {
   "cell_type": "code",
   "execution_count": 3,
   "metadata": {},
   "outputs": [
    {
     "name": "stdout",
     "output_type": "stream",
     "text": [
      "a2b2c1d2e2f5g1h1i1j1k1l1m1n1o4p2\n"
     ]
    }
   ],
   "source": [
    "comp_str_lower = ''\n",
    "string_input_lower = string_input.lower()\n",
    "\n",
    "count = 1\n",
    "for x in range((len(string_input_lower) - 1)):\n",
    "    if string_input_lower[x] == string_input_lower[x + 1]:\n",
    "        count += 1\n",
    "    else:\n",
    "        comp_str_lower += string_input_lower[x] + str(count)\n",
    "        count = 1\n",
    "comp_str_lower += string_input_lower[x + 1] + str(count)\n",
    "\n",
    "\n",
    "if len(string_input_lower) >= len(comp_str_lower):\n",
    "    print(string_input_lower)\n",
    "else:\n",
    "    print(comp_str_lower)"
   ]
  },
  {
   "cell_type": "markdown",
   "metadata": {},
   "source": [
    "### Challenge Explanation\n",
    "\n",
    "First, I have created a variable that will be assigned based on what the user enters.\n",
    "\n",
    "The first set of code will count based on a mixed case (case sensitive) - \"a\" and \"A\" will be counted as two different values.\n",
    "\n",
    "If we want to make the code case insestive (\"a\" and \"A\" would count towards the same value), we would need to run the 2nd set of code where we set the input string to be all lower case and then count.\n",
    "\n",
    "In the code that does the counting, we need to create a variable called compr_str to hold the values we want to compare with in the for loop.\n",
    "\n",
    "Since we don't know the length of the input string, we need to dynamically set the values in the range based on the length of the string.\n",
    "\n",
    "We can't do x + 1 and get a number greater than the length of the indexed word, so I have created a range of the length of the string - 1 so I can do my compare +1 and not hit any errors.\n",
    "\n",
    "Since we are looking at length - 1, we need to then do a final addition to the comp_str value to get the last character evaluated."
   ]
  }
 ],
 "metadata": {
  "kernelspec": {
   "display_name": "Python 3",
   "language": "python",
   "name": "python3"
  },
  "language_info": {
   "codemirror_mode": {
    "name": "ipython",
    "version": 3
   },
   "file_extension": ".py",
   "mimetype": "text/x-python",
   "name": "python",
   "nbconvert_exporter": "python",
   "pygments_lexer": "ipython3",
   "version": "3.7.0"
  }
 },
 "nbformat": 4,
 "nbformat_minor": 2
}
