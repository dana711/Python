{
 "cells": [
  {
   "cell_type": "markdown",
   "metadata": {},
   "source": [
    "### Challenge: Summation of Primes\n",
    "The sum of the primes below 10 is 2 + 3 + 5 + 7 = 17. Find the sum of all the primes below 2,000. Afterward, write a brief explanation walking through your code's logic in markdown."
   ]
  },
  {
   "cell_type": "code",
   "execution_count": 1,
   "metadata": {},
   "outputs": [
    {
     "name": "stdout",
     "output_type": "stream",
     "text": [
      "277050\n"
     ]
    }
   ],
   "source": [
    "primes = 0\n",
    "\n",
    "for x in range(2, 2000):\n",
    "    isPrime = True\n",
    "    for i in range(2, x):\n",
    "        if (x % i) == 0:\n",
    "            isPrime = False        \n",
    "            break\n",
    "        else:\n",
    "            continue\n",
    "    if isPrime == True:\n",
    "        primes = primes + x\n",
    "                \n",
    "print(primes)"
   ]
  },
  {
   "cell_type": "markdown",
   "metadata": {},
   "source": [
    "### Challenge Explanation\n",
    "\n",
    "First, I want to create a variable called primes to add up each number that the codes identifies as a prime number.\n",
    "\n",
    "Then the code iterates through a range of 2 up to, but not including, 2000, since the problem asks for \"all primes below 2,000.\"  We start at 2 because we know that the number 1 is not a prime number based on the definition of a prime number.\n",
    "\n",
    "Create the isPrime variable and initiate it too True.\n",
    "\n",
    "Work through the range and divide by every number up to, but not including, the number in question.\n",
    "\n",
    "If that number can be divided by other numbers other than 1 or itself, then the number is NOT prime.  The program sets the isPrime variable to False and then breaks/exits the for loop for that number.  There is no reason to keep checking if other numbers are divisible into the number in question - once we know one other number can used to divide, then we know the number is not prime and we don't need to use system resources to keep checking the math.\n",
    "\n",
    "If that number can't be divided by any other number, then we set isPrime to True and add that number to the primes variable.\n",
    "\n",
    "Once the code has iterated through 1999, the code stops and prints out the sum of all the prime numbers.\n"
   ]
  }
 ],
 "metadata": {
  "kernelspec": {
   "display_name": "Python 3",
   "language": "python",
   "name": "python3"
  },
  "language_info": {
   "codemirror_mode": {
    "name": "ipython",
    "version": 3
   },
   "file_extension": ".py",
   "mimetype": "text/x-python",
   "name": "python",
   "nbconvert_exporter": "python",
   "pygments_lexer": "ipython3",
   "version": "3.7.0"
  }
 },
 "nbformat": 4,
 "nbformat_minor": 2
}
