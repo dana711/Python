{
 "cells": [
  {
   "cell_type": "markdown",
   "metadata": {},
   "source": [
    "### Challenge: Largest Palindrome\n",
    "A palindromic number reads the same both ways. For example, 1234321 is a palindrome. The largest palindrome made from the product of two two-digit numbers is 9009 = 91 × 99. Find the largest palindrome made from the product of two three-digit numbers. Afterward, write a brief explanation walking through your code's logic in markdown."
   ]
  },
  {
   "cell_type": "code",
   "execution_count": 1,
   "metadata": {
    "scrolled": true
   },
   "outputs": [
    {
     "name": "stdout",
     "output_type": "stream",
     "text": [
      "906609\n"
     ]
    }
   ],
   "source": [
    "palindromes = []\n",
    "for x in range(100,1000):\n",
    "    for i in range(100,1000):\n",
    "        num = str(i * x).split()[0]\n",
    "        if (x < 1000) and (i < 1000):\n",
    "            if (num[::-1] == num):\n",
    "                palindromes.append(i * x)\n",
    "            else:\n",
    "                continue\n",
    "        else:\n",
    "            continue\n",
    "print(max(palindromes))"
   ]
  },
  {
   "cell_type": "markdown",
   "metadata": {},
   "source": [
    "### Challenge  explination:\n",
    "\n",
    "First, we need to create a list to store the product of our multiplication.  I called this palindromes.\n",
    "\n",
    "Then we need to iterate through two variables, x and i, where we are multipliying from 100 to 999 in each.\n",
    "\n",
    "While x and i are < 1000, we want to check if the product is a palindrome using if (num[::-1] == num).\n",
    "\n",
    "If it is a palindrome, add the product to the list we created and the continue through the for loop until X >= 100 and i >= 1000).\n",
    "\n",
    "If it is NOT a palindrome, continue through the for loop.\n",
    "\n",
    "Since the palindrome list has many values, we want to print the largest value since that is what was asked in the question.\n",
    "\n",
    "If you wanted the smallest value, you could add:\n",
    "print(min(palindromes)) and get 10201."
   ]
  }
 ],
 "metadata": {
  "kernelspec": {
   "display_name": "Python 3",
   "language": "python",
   "name": "python3"
  },
  "language_info": {
   "codemirror_mode": {
    "name": "ipython",
    "version": 3
   },
   "file_extension": ".py",
   "mimetype": "text/x-python",
   "name": "python",
   "nbconvert_exporter": "python",
   "pygments_lexer": "ipython3",
   "version": "3.7.0"
  }
 },
 "nbformat": 4,
 "nbformat_minor": 2
}
